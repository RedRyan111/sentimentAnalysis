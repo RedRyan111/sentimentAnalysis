{
 "cells": [
  {
   "cell_type": "code",
   "execution_count": 195,
   "metadata": {},
   "outputs": [],
   "source": [
    "from twitter import Twitter, OAuth, TwitterHTTPError, TwitterStream\n",
    "import tweepy\n",
    "import pyquery\n",
    "import lxml\n",
    "import sys"
   ]
  },
  {
   "cell_type": "markdown",
   "metadata": {},
   "source": [
    "<h3>Twitter API</h3>"
   ]
  },
  {
   "cell_type": "code",
   "execution_count": 196,
   "metadata": {
    "collapsed": true
   },
   "outputs": [],
   "source": [
    "try:\n",
    "    import json\n",
    "except ImportError:\n",
    "    import simplejson as json"
   ]
  },
  {
   "cell_type": "code",
   "execution_count": 197,
   "metadata": {
    "collapsed": true
   },
   "outputs": [],
   "source": [
    "# -*- coding: utf-8 -*-\n",
    "import sys,getopt,datetime,codecs\n",
    "if sys.version_info[0] < 3:\n",
    "    import got\n",
    "else:\n",
    "    import got3 as got"
   ]
  },
  {
   "cell_type": "code",
   "execution_count": 198,
   "metadata": {
    "collapsed": true
   },
   "outputs": [],
   "source": [
    "tweetsCriteria = got.manager.TweetCriteria()"
   ]
  },
  {
   "cell_type": "code",
   "execution_count": 199,
   "metadata": {
    "collapsed": true
   },
   "outputs": [],
   "source": [
    "tweetsCriteria = tweetsCriteria.setMaxTweets(10)"
   ]
  },
  {
   "cell_type": "code",
   "execution_count": 200,
   "metadata": {
    "collapsed": true
   },
   "outputs": [],
   "source": [
    "tweetsCriteria = tweetsCriteria.setQuerySearch(\"Vodafone\")"
   ]
  },
  {
   "cell_type": "code",
   "execution_count": 201,
   "metadata": {
    "collapsed": true
   },
   "outputs": [],
   "source": [
    "tweetsCriteria = tweetsCriteria.setSince(sys.argv[1])"
   ]
  },
  {
   "cell_type": "code",
   "execution_count": 202,
   "metadata": {
    "collapsed": true
   },
   "outputs": [],
   "source": [
    "tweetsCriteria = tweetsCriteria.setUntil(sys.argv[2])"
   ]
  },
  {
   "cell_type": "code",
   "execution_count": 203,
   "metadata": {
    "collapsed": true
   },
   "outputs": [],
   "source": [
    "tweets = got.manager.TweetManager.getTweets(tweetsCriteria)"
   ]
  },
  {
   "cell_type": "code",
   "execution_count": 204,
   "metadata": {
    "collapsed": true
   },
   "outputs": [],
   "source": [
    "file = open(\"vdf_tweets.txt\",\"a\")"
   ]
  },
  {
   "cell_type": "code",
   "execution_count": 205,
   "metadata": {},
   "outputs": [],
   "source": [
    "tweet_dict = {}\n",
    "for tweet in tweets:\n",
    "    year = tweet.date.year\n",
    "    month = tweet.date.month\n",
    "    day = tweet.date.day\n",
    "    \n",
    "    ID = tweet.id\n",
    "    txt = tweet.text\n",
    "    tweet_dict[ID]=txt\n",
    "    file.write(str(ID)+\" \"+str(txt)+\" \"+str(year)+\"-\"+str(month)+\"-\"+str(day)+\"\\n\")"
   ]
  },
  {
   "cell_type": "code",
   "execution_count": 206,
   "metadata": {
    "collapsed": true
   },
   "outputs": [],
   "source": [
    "file.close()"
   ]
  }
 ],
 "metadata": {
  "kernelspec": {
   "display_name": "Python 3",
   "language": "python",
   "name": "python3"
  },
  "language_info": {
   "codemirror_mode": {
    "name": "ipython",
    "version": 3
   },
   "file_extension": ".py",
   "mimetype": "text/x-python",
   "name": "python",
   "nbconvert_exporter": "python",
   "pygments_lexer": "ipython3",
   "version": "3.6.3"
  }
 },
 "nbformat": 4,
 "nbformat_minor": 2
}
