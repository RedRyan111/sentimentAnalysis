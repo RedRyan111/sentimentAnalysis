{
 "cells": [
  {
   "cell_type": "code",
   "execution_count": 19,
   "metadata": {
    "collapsed": true
   },
   "outputs": [],
   "source": [
    "from praw.models import MoreComments\n",
    "import pandas as pd\n",
    "import numpy as np\n",
    "import webbrowser\n",
    "import urllib.request\n",
    "import praw\n",
    "import json\n",
    "import sys\n",
    "import re\n",
    "%matplotlib inline"
   ]
  },
  {
   "cell_type": "code",
   "execution_count": 20,
   "metadata": {
    "collapsed": true
   },
   "outputs": [],
   "source": [
    "time = (sys.argv[0],sys.argv[1])"
   ]
  },
  {
   "cell_type": "code",
   "execution_count": 21,
   "metadata": {
    "collapsed": true
   },
   "outputs": [],
   "source": [
    "time = (10,9)"
   ]
  },
  {
   "cell_type": "code",
   "execution_count": 22,
   "metadata": {
    "collapsed": true
   },
   "outputs": [],
   "source": [
    "com_freq = \"https://api.pushshift.io/reddit/search/comment/?q=vodafone&aggs=created_utc&after={0}d&before={1}d&frequency=hour&size=50\".format(10,9)"
   ]
  },
  {
   "cell_type": "code",
   "execution_count": 23,
   "metadata": {
    "collapsed": true
   },
   "outputs": [],
   "source": [
    "sub_freq = \"https://api.pushshift.io/reddit/search/submission/?q=vodafone&aggs=created_utc&after={0}d&before={1}d&frequency=hour&size=25\".format(10,9)"
   ]
  },
  {
   "cell_type": "code",
   "execution_count": 24,
   "metadata": {},
   "outputs": [
    {
     "name": "stdout",
     "output_type": "stream",
     "text": [
      "https://api.pushshift.io/reddit/search/comment/?q=vodafone&aggs=created_utc&after=10d&before=9d&frequency=hour&size=50\n"
     ]
    }
   ],
   "source": [
    "print(com_freq)"
   ]
  },
  {
   "cell_type": "code",
   "execution_count": null,
   "metadata": {
    "collapsed": true
   },
   "outputs": [],
   "source": []
  },
  {
   "cell_type": "code",
   "execution_count": 25,
   "metadata": {
    "collapsed": true
   },
   "outputs": [],
   "source": [
    "df_com = pd.DataFrame({'created_utc':0,'text':\"\"},index=[0])"
   ]
  },
  {
   "cell_type": "code",
   "execution_count": 26,
   "metadata": {
    "collapsed": true
   },
   "outputs": [],
   "source": [
    "df_sub = pd.DataFrame({'created_utc':0,'text':\"\",'body':\"\"},index=[0])"
   ]
  },
  {
   "cell_type": "code",
   "execution_count": 27,
   "metadata": {
    "collapsed": true
   },
   "outputs": [],
   "source": [
    "testing = (\"nick\",\"ryan\")"
   ]
  },
  {
   "cell_type": "code",
   "execution_count": 28,
   "metadata": {},
   "outputs": [
    {
     "name": "stdout",
     "output_type": "stream",
     "text": [
      "nick alright then ryan\n"
     ]
    }
   ],
   "source": [
    "print(\"{0[0]} alright then {0[1]}\".format(testing))"
   ]
  },
  {
   "cell_type": "code",
   "execution_count": 29,
   "metadata": {
    "collapsed": true
   },
   "outputs": [],
   "source": [
    "cols = [\"created_utc\",'time']"
   ]
  },
  {
   "cell_type": "code",
   "execution_count": 30,
   "metadata": {},
   "outputs": [
    {
     "name": "stdout",
     "output_type": "stream",
     "text": [
      "   created_utc                                               text\n",
      "0            0                                                   \n",
      "1   1532336400  Salut. Desi stau mai mult in afara tarii decat...\n",
      "2   1532336400  We have so much choice though. BT (who is with...\n",
      "3   1532340000  In Romania though, Orange is still way overpri...\n",
      "4   1532343600  Why are Vodafone so bloody inept?\\n\\nThey coul...\n"
     ]
    }
   ],
   "source": [
    "with urllib.request.urlopen(com_freq) as url:\n",
    "    data = json.loads(url.read().decode())\n",
    "\n",
    "    data1 = data['data']\n",
    "\n",
    "    data2 = data['aggs']['created_utc'] \n",
    "\n",
    "    #print(len(data1))\n",
    "    \n",
    "    cur_ind = 0\n",
    "    cur_count = 0\n",
    "    for i in range(len(data1)):\n",
    "        if( cur_count == data2[cur_ind]['doc_count']):\n",
    "            cur_count = 0\n",
    "            cur_ind +=1\n",
    "\n",
    "        time_list = {}\n",
    "        time_list['created_utc'] = data2[cur_ind]['key']\n",
    "        time_list['text'] = data1[i]['body']\n",
    "        \n",
    "        cur_count+=1\n",
    "\n",
    "        df = pd.DataFrame(time_list,index = [0])\n",
    "        df_com = df_com.append(df,cols)\n",
    "    print(df_com.head())\n",
    "        "
   ]
  },
  {
   "cell_type": "code",
   "execution_count": 31,
   "metadata": {},
   "outputs": [
    {
     "name": "stdout",
     "output_type": "stream",
     "text": [
      "   created_utc                                               text  \\\n",
      "0            0                                                      \n",
      "1   1532339834  Vodafone will reimburse customers who have pai...   \n",
      "2   1532344299  • 50 Prozent Rabatt und Anschlusspreis sparen:...   \n",
      "3   1532344299    11th Annual Cloud &amp; Big Data Analytics 2018   \n",
      "4   1532344299                 Ho mobile su che rete si appoggia?   \n",
      "\n",
      "                                                body  \n",
      "0                                                     \n",
      "1                                                     \n",
      "2                                                     \n",
      "3  **“Convergence of two key technologies”**\\n\\n*...  \n",
      "4  Utente Vodafone here. La rete prende bene ma l...  \n"
     ]
    }
   ],
   "source": [
    "with urllib.request.urlopen(sub_freq) as url:\n",
    "    data = json.loads(url.read().decode())\n",
    "\n",
    "    data1 = data['data']\n",
    "    #print(data1[0])\n",
    "    \n",
    "    data2 = data['aggs']['created_utc']\n",
    "    #print(data2)\n",
    "    \n",
    "    cur_ind = 0\n",
    "    cur_count = 0\n",
    "    for i in range(len(data1)):\n",
    "        if( cur_count == data2[cur_ind]['doc_count']):\n",
    "            cur_count = 0\n",
    "            cur_ind +=1\n",
    "\n",
    "        time_list = {}\n",
    "        time_list['created_utc'] = data1[cur_ind]['created_utc']\n",
    "        time_list['text'] = data1[i]['title']\n",
    "        time_list['body'] = data1[i]['selftext']\n",
    "        \n",
    "        cur_count+=1\n",
    "\n",
    "        df = pd.DataFrame(time_list,index = [0])\n",
    "        df_sub = df_sub.append(df,cols)\n",
    "    print(df_sub.head())\n",
    "    "
   ]
  },
  {
   "cell_type": "code",
   "execution_count": 34,
   "metadata": {
    "collapsed": true
   },
   "outputs": [],
   "source": [
    "df_com = df_com.iloc[1:]"
   ]
  },
  {
   "cell_type": "code",
   "execution_count": 35,
   "metadata": {
    "collapsed": true
   },
   "outputs": [],
   "source": [
    "df_sub = df_sub.iloc[1:]"
   ]
  },
  {
   "cell_type": "code",
   "execution_count": 36,
   "metadata": {
    "collapsed": true
   },
   "outputs": [],
   "source": [
    "df_com.to_csv('reddit_com.csv',header=False,index=False,mode='a')"
   ]
  },
  {
   "cell_type": "code",
   "execution_count": 37,
   "metadata": {
    "collapsed": true
   },
   "outputs": [],
   "source": [
    "df_sub.to_csv('reddit_sub.csv',header=False,index=False,mode='a')"
   ]
  },
  {
   "cell_type": "code",
   "execution_count": null,
   "metadata": {
    "collapsed": true
   },
   "outputs": [],
   "source": []
  }
 ],
 "metadata": {
  "kernelspec": {
   "display_name": "Python 3",
   "language": "python",
   "name": "python3"
  },
  "language_info": {
   "codemirror_mode": {
    "name": "ipython",
    "version": 3
   },
   "file_extension": ".py",
   "mimetype": "text/x-python",
   "name": "python",
   "nbconvert_exporter": "python",
   "pygments_lexer": "ipython3",
   "version": "3.6.3"
  }
 },
 "nbformat": 4,
 "nbformat_minor": 2
}
