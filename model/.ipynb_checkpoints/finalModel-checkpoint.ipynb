{
 "cells": [
  {
   "cell_type": "code",
   "execution_count": 1,
   "metadata": {
    "scrolled": true
   },
   "outputs": [
    {
     "name": "stderr",
     "output_type": "stream",
     "text": [
      "/home/ryan/anaconda3/lib/python3.6/site-packages/h5py/__init__.py:34: FutureWarning: Conversion of the second argument of issubdtype from `float` to `np.floating` is deprecated. In future, it will be treated as `np.float64 == np.dtype(float).type`.\n",
      "  from ._conv import register_converters as _register_converters\n"
     ]
    }
   ],
   "source": [
    "from sklearn.model_selection import train_test_split\n",
    "import matplotlib.pyplot as plt\n",
    "import tensorflow as tf\n",
    "import pandas as pd\n",
    "import numpy as np\n",
    "import re"
   ]
  },
  {
   "cell_type": "code",
   "execution_count": 2,
   "metadata": {
    "collapsed": true
   },
   "outputs": [],
   "source": [
    "def small_lstm(num_inp,x_old,h_old,c_old):\n",
    "    W_f = tf.Variable(tf.truncated_normal([num_inp],stddev=.1))\n",
    "    W_i = tf.Variable(tf.truncated_normal([num_inp],stddev=.1))\n",
    "    W_o = tf.Variable(tf.truncated_normal([num_inp],stddev=.1))\n",
    "    W_c = tf.Variable(tf.truncated_normal([num_inp],stddev=.1))\n",
    "    W_a = tf.Variable(tf.truncated_normal([num_inp],stddev=.1))\n",
    "\n",
    "    U_f = tf.Variable(tf.truncated_normal([num_inp],stddev=.1))\n",
    "    U_i = tf.Variable(tf.truncated_normal([num_inp],stddev=.1))\n",
    "    U_o = tf.Variable(tf.truncated_normal([num_inp],stddev=.1))\n",
    "    U_c = tf.Variable(tf.truncated_normal([num_inp],stddev=.1))\n",
    "    U_a = tf.Variable(tf.truncated_normal([num_inp],stddev=.1))\n",
    "\n",
    "    B_f = tf.Variable(tf.truncated_normal([num_inp],stddev=.1))\n",
    "    B_i = tf.Variable(tf.truncated_normal([num_inp],stddev=.1))\n",
    "    B_o = tf.Variable(tf.truncated_normal([num_inp],stddev=.1))\n",
    "    B_a = tf.Variable(tf.truncated_normal([num_inp],stddev=.1))\n",
    "\n",
    "    F_t = tf.sigmoid( tf.multiply(x_old,W_f) + tf.multiply(h_old,U_f) + B_f)\n",
    "    I_t = tf.sigmoid( tf.multiply(x_old,W_i) + tf.multiply(h_old,U_i) + B_i)\n",
    "    O_t = tf.sigmoid( tf.multiply(x_old,W_o) + tf.multiply(h_old,U_o) + B_o)\n",
    "    A_t = tf.tanh(    tf.multiply(x_old,W_a) + tf.multiply(h_old,U_a) + B_a)\n",
    "\n",
    "    c_t = tf.multiply(I_t,c_old) + tf.multiply(F_t,A_t)\n",
    "    h_t = tf.multiply(O_t,tf.tanh(c_t))\n",
    "\n",
    "    return c_t,h_t"
   ]
  },
  {
   "cell_type": "code",
   "execution_count": 3,
   "metadata": {
    "collapsed": true
   },
   "outputs": [],
   "source": [
    "def lstm_layer(X_txt,num_inp,max_len):\n",
    "    curC = 0.0\n",
    "    curH = 0.0\n",
    "        \n",
    "    for i in range(max_len):\n",
    "        curC, curH = small_lstm(num_inp,X_txt[i],curH,curC)\n",
    "    return curH"
   ]
  },
  {
   "cell_type": "code",
   "execution_count": 4,
   "metadata": {
    "collapsed": true
   },
   "outputs": [],
   "source": [
    "file_path = \"~/Downloads/sentiment140/training.1600000.processed.noemoticon.csv\"\n",
    "\n",
    "\n",
    "col_names = ['target','id','date','flag','user','text']\n",
    "\n",
    "df = pd.read_csv(file_path,encoding='ISO-8859-1',names=col_names)"
   ]
  },
  {
   "cell_type": "code",
   "execution_count": 5,
   "metadata": {
    "collapsed": true
   },
   "outputs": [],
   "source": [
    "txt = df['text']\n",
    "\n",
    "target = df['target']"
   ]
  },
  {
   "cell_type": "code",
   "execution_count": 6,
   "metadata": {
    "collapsed": true
   },
   "outputs": [],
   "source": [
    "glove_dir = \"../../../../Downloads/GloveWordEmb/glove.840B.300d.txt\"\n",
    "\n",
    "Glove_file = open(glove_dir)"
   ]
  },
  {
   "cell_type": "code",
   "execution_count": null,
   "metadata": {
    "collapsed": true
   },
   "outputs": [],
   "source": [
    "w2v_dict = {}\n",
    "count = 0\n",
    "for line in Glove_file:\n",
    "    line = line.strip('\\n').split(\" \")\n",
    "    word = line.pop(0)\n",
    "    line = np.array(line)\n",
    "    line = line.astype(np.float)\n",
    "    \n",
    "    w2v_dict[word] = line"
   ]
  },
  {
   "cell_type": "code",
   "execution_count": null,
   "metadata": {
    "collapsed": true
   },
   "outputs": [],
   "source": [
    "def sample2Vec(w2v_dict,sample):\n",
    "    sample_emb = []\n",
    "    hold = []\n",
    "    for i in sample:\n",
    "        if i in w2v_dict:\n",
    "            hold = w2v_dict[i]\n",
    "        else:\n",
    "            hold = np.zeros(300)\n",
    "        sample_emb.append(hold)\n",
    "    return sample_emb"
   ]
  },
  {
   "cell_type": "code",
   "execution_count": null,
   "metadata": {
    "collapsed": true
   },
   "outputs": [],
   "source": [
    "print(\"before dataframes\")\n",
    "vec_df = pd.DataFrame(columns=list(range(300)))\n",
    "tar_df = pd.DataFrame(columns=['target'])\n",
    "print(\"done with dataframes\")"
   ]
  },
  {
   "cell_type": "code",
   "execution_count": null,
   "metadata": {
    "collapsed": true
   },
   "outputs": [],
   "source": [
    "def pre_proc_sen(sentence):\n",
    "    test = sentence.lower()\n",
    "    test = test.replace(\"'\",\"\").replace('\"',\"\")\n",
    "    test = re.sub(r'http\\S+', '', test)\n",
    "    test = re.sub(r';\\S+','',test)\n",
    "    test = re.sub(r':\\S+','',test)\n",
    "    test = re.sub('[^a-zA-Z]',' ',test)\n",
    "    test = test.split()\n",
    "    return test\n"
   ]
  },
  {
   "cell_type": "code",
   "execution_count": null,
   "metadata": {
    "collapsed": true
   },
   "outputs": [],
   "source": [
    "max_words = 30\n",
    "vec_np = 0\n",
    "txt_fin = []"
   ]
  }
 ],
 "metadata": {
  "kernelspec": {
   "display_name": "Python 3",
   "language": "python",
   "name": "python3"
  },
  "language_info": {
   "codemirror_mode": {
    "name": "ipython",
    "version": 3
   },
   "file_extension": ".py",
   "mimetype": "text/x-python",
   "name": "python",
   "nbconvert_exporter": "python",
   "pygments_lexer": "ipython3",
   "version": "3.6.3"
  }
 },
 "nbformat": 4,
 "nbformat_minor": 2
}
