{
 "cells": [
  {
   "cell_type": "code",
   "execution_count": 114,
   "metadata": {},
   "outputs": [],
   "source": [
    "from nltk.corpus import treebank\n",
    "import matplotlib.pyplot as plt\n",
    "from nltk import word_tokenize\n",
    "import tensorflow as tf\n",
    "import pandas as pd\n",
    "import numpy as np\n",
    "import nltk\n",
    "import re"
   ]
  },
  {
   "cell_type": "code",
   "execution_count": 115,
   "metadata": {
    "collapsed": true
   },
   "outputs": [],
   "source": [
    "def pre_proc_sen(sentence):\n",
    "    test = sentence.replace(\"'\",\"\").replace('\"',\"\")\n",
    "    test = re.sub('[^a-zA-Z]',' ',test)\n",
    "    test = test.lower()\n",
    "    test = test.split()\n",
    "    return test"
   ]
  },
  {
   "cell_type": "markdown",
   "metadata": {},
   "source": [
    "<h3>Pre processing text</h3>"
   ]
  },
  {
   "cell_type": "code",
   "execution_count": 116,
   "metadata": {
    "collapsed": true
   },
   "outputs": [],
   "source": [
    "fpath = \"../../Natural-Language-Processing/Natural_Language_Processing/Restaurant_Reviews.tsv\""
   ]
  },
  {
   "cell_type": "code",
   "execution_count": 117,
   "metadata": {
    "collapsed": true
   },
   "outputs": [],
   "source": [
    "df = pd.read_csv(fpath,sep='\\t')"
   ]
  },
  {
   "cell_type": "code",
   "execution_count": 160,
   "metadata": {
    "collapsed": true
   },
   "outputs": [],
   "source": [
    "#sentence = \"I really doesn't like how Verison has Tom Hilfiger in their commercials\"#df['Review'][0]\n",
    "#sentence = \"citizens rights are being hurt by the governments inability to act\"\n",
    "#sentence = \"The cake that I ate was not very good\"\n",
    "#sentence = \"I am not able to recommend this to you\"\n",
    "#sentence = \"This is not the best camera\"\n",
    "#sentence = \"I don't like how the battery life of the iphone 6 is so short\"\n",
    "real_tweet = \"@vodafone need an upgrade but deals are awful think I'm off to @sky\""
   ]
  },
  {
   "cell_type": "code",
   "execution_count": 161,
   "metadata": {
    "collapsed": true
   },
   "outputs": [],
   "source": [
    "test = pre_proc_sen(sentence)"
   ]
  },
  {
   "cell_type": "code",
   "execution_count": 162,
   "metadata": {},
   "outputs": [
    {
     "name": "stdout",
     "output_type": "stream",
     "text": [
      "['i', 'really', 'doesnt', 'like', 'how', 'verison', 'has', 'tom', 'hilfiger', 'in', 'their', 'commercials']\n"
     ]
    }
   ],
   "source": [
    "print(test)"
   ]
  },
  {
   "cell_type": "code",
   "execution_count": null,
   "metadata": {
    "collapsed": true
   },
   "outputs": [],
   "source": []
  },
  {
   "cell_type": "code",
   "execution_count": null,
   "metadata": {
    "collapsed": true
   },
   "outputs": [],
   "source": []
  },
  {
   "cell_type": "markdown",
   "metadata": {},
   "source": [
    "<h3>Rosette API</h3>"
   ]
  },
  {
   "cell_type": "code",
   "execution_count": 163,
   "metadata": {
    "collapsed": true
   },
   "outputs": [],
   "source": [
    "from rosette.api import API,DocumentParameters, RosetteException"
   ]
  },
  {
   "cell_type": "code",
   "execution_count": 164,
   "metadata": {
    "collapsed": true
   },
   "outputs": [],
   "source": [
    "my_key = \"a4356d9ce201e1182a80c2a86142cacc\""
   ]
  },
  {
   "cell_type": "code",
   "execution_count": 165,
   "metadata": {
    "collapsed": true
   },
   "outputs": [],
   "source": [
    "api = API(user_key=my_key)"
   ]
  },
  {
   "cell_type": "code",
   "execution_count": 166,
   "metadata": {
    "collapsed": true
   },
   "outputs": [],
   "source": [
    "#result = api.ping()"
   ]
  },
  {
   "cell_type": "code",
   "execution_count": 167,
   "metadata": {
    "collapsed": true
   },
   "outputs": [],
   "source": [
    "#print(\"/ping: \",result)"
   ]
  },
  {
   "cell_type": "code",
   "execution_count": null,
   "metadata": {
    "collapsed": true
   },
   "outputs": [],
   "source": []
  },
  {
   "cell_type": "code",
   "execution_count": 168,
   "metadata": {
    "collapsed": true
   },
   "outputs": [],
   "source": [
    "params = DocumentParameters()"
   ]
  },
  {
   "cell_type": "code",
   "execution_count": 169,
   "metadata": {
    "collapsed": true
   },
   "outputs": [],
   "source": [
    "params['content'] = sentence"
   ]
  },
  {
   "cell_type": "code",
   "execution_count": 170,
   "metadata": {
    "collapsed": true
   },
   "outputs": [],
   "source": [
    "def get_topics(params):\n",
    "    try:\n",
    "        return api.topics(params)\n",
    "    except RosetteException as exception:\n",
    "        print(exception)"
   ]
  },
  {
   "cell_type": "code",
   "execution_count": 171,
   "metadata": {},
   "outputs": [
    {
     "name": "stdout",
     "output_type": "stream",
     "text": [
      "[{'phrase': 'Verison', 'salience': 1.0}, {'phrase': 'commercials', 'salience': 0.97558584}, {'phrase': 'Tom Hilfiger', 'salience': 1.0}]\n"
     ]
    }
   ],
   "source": [
    "topics = get_topics(params)\n",
    "print(topics['keyphrases'])"
   ]
  },
  {
   "cell_type": "code",
   "execution_count": 172,
   "metadata": {},
   "outputs": [
    {
     "name": "stdout",
     "output_type": "stream",
     "text": [
      "Verison\n",
      "commercials\n",
      "Tom Hilfiger\n"
     ]
    }
   ],
   "source": [
    "for i in range(len(topics['keyphrases'])):\n",
    "    print(topics['keyphrases'][i]['phrase'])"
   ]
  },
  {
   "cell_type": "code",
   "execution_count": 173,
   "metadata": {
    "collapsed": true
   },
   "outputs": [],
   "source": [
    "entities = api.entities(params)"
   ]
  },
  {
   "cell_type": "code",
   "execution_count": 174,
   "metadata": {},
   "outputs": [
    {
     "name": "stdout",
     "output_type": "stream",
     "text": [
      "[{'type': 'PERSON', 'mention': 'Tom Hilfiger', 'normalized': 'Tom Hilfiger', 'count': 1, 'mentionOffsets': [{'startOffset': 38, 'endOffset': 50}], 'entityId': 'T0', 'confidence': 0.81759632}]\n"
     ]
    }
   ],
   "source": [
    "print(entities['entities'])"
   ]
  },
  {
   "cell_type": "markdown",
   "metadata": {},
   "source": [
    "<h3>nltk</h3>"
   ]
  },
  {
   "cell_type": "code",
   "execution_count": 175,
   "metadata": {
    "collapsed": true
   },
   "outputs": [],
   "source": [
    "tokens = nltk.word_tokenize(sentence)"
   ]
  },
  {
   "cell_type": "code",
   "execution_count": 176,
   "metadata": {},
   "outputs": [
    {
     "name": "stdout",
     "output_type": "stream",
     "text": [
      "[('I', 'PRP'), ('really', 'RB'), ('does', 'VBZ'), (\"n't\", 'RB'), ('like', 'VB'), ('how', 'WRB'), ('Verison', 'NNP'), ('has', 'VBZ'), ('Tom', 'NNP'), ('Hilfiger', 'NNP'), ('in', 'IN'), ('their', 'PRP$'), ('commercials', 'NNS')]\n"
     ]
    }
   ],
   "source": [
    "tagged = nltk.pos_tag(tokens)\n",
    "print(tagged)"
   ]
  },
  {
   "cell_type": "code",
   "execution_count": 177,
   "metadata": {},
   "outputs": [
    {
     "name": "stdout",
     "output_type": "stream",
     "text": [
      "('I', 'PRP')\n",
      "('Verison', 'NNP')\n",
      "('Tom', 'NNP')\n",
      "('Hilfiger', 'NNP')\n",
      "('commercials', 'NNS')\n"
     ]
    }
   ],
   "source": [
    "check = ['NN','NNS','NNP','PRP']\n",
    "for i in range(len(tagged)):\n",
    "    if(tagged[i][1] in check):\n",
    "        print(tagged[i])"
   ]
  },
  {
   "cell_type": "code",
   "execution_count": 178,
   "metadata": {},
   "outputs": [],
   "source": [
    "entity_types = {'PRP':'personal','NNP':'name','NNS':'aspect','NN':'issue'}"
   ]
  },
  {
   "cell_type": "code",
   "execution_count": 179,
   "metadata": {},
   "outputs": [
    {
     "name": "stdout",
     "output_type": "stream",
     "text": [
      "personal\n"
     ]
    }
   ],
   "source": [
    "print(entity_types['PRP'])"
   ]
  },
  {
   "cell_type": "code",
   "execution_count": 180,
   "metadata": {},
   "outputs": [],
   "source": [
    "\n",
    "#name should be broken into companies and people"
   ]
  },
  {
   "cell_type": "code",
   "execution_count": null,
   "metadata": {
    "collapsed": true
   },
   "outputs": [],
   "source": []
  },
  {
   "cell_type": "code",
   "execution_count": null,
   "metadata": {
    "collapsed": true
   },
   "outputs": [],
   "source": []
  },
  {
   "cell_type": "code",
   "execution_count": null,
   "metadata": {
    "collapsed": true
   },
   "outputs": [],
   "source": []
  },
  {
   "cell_type": "code",
   "execution_count": null,
   "metadata": {
    "collapsed": true
   },
   "outputs": [],
   "source": []
  }
 ],
 "metadata": {
  "kernelspec": {
   "display_name": "Python 3",
   "language": "python",
   "name": "python3"
  },
  "language_info": {
   "codemirror_mode": {
    "name": "ipython",
    "version": 3
   },
   "file_extension": ".py",
   "mimetype": "text/x-python",
   "name": "python",
   "nbconvert_exporter": "python",
   "pygments_lexer": "ipython3",
   "version": "3.6.3"
  }
 },
 "nbformat": 4,
 "nbformat_minor": 2
}
