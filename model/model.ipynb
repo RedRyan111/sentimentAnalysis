{
 "cells": [
  {
   "cell_type": "code",
   "execution_count": 1,
   "metadata": {},
   "outputs": [
    {
     "name": "stderr",
     "output_type": "stream",
     "text": [
      "/home/ryan/anaconda3/lib/python3.6/site-packages/h5py/__init__.py:34: FutureWarning: Conversion of the second argument of issubdtype from `float` to `np.floating` is deprecated. In future, it will be treated as `np.float64 == np.dtype(float).type`.\n",
      "  from ._conv import register_converters as _register_converters\n"
     ]
    }
   ],
   "source": [
    "from sklearn.model_selection import train_test_split\n",
    "import matplotlib.pyplot as plt\n",
    "import tensorflow as tf\n",
    "import pandas as pd\n",
    "import numpy as np\n",
    "import re\n",
    "%matplotlib inline"
   ]
  },
  {
   "cell_type": "markdown",
   "metadata": {},
   "source": [
    "<h3>Neural Network functions</h3>"
   ]
  },
  {
   "cell_type": "code",
   "execution_count": 2,
   "metadata": {
    "collapsed": true
   },
   "outputs": [],
   "source": [
    "def small_lstm(num_inp,x_old,h_old,c_old):\n",
    "    W_f = tf.Variable(tf.truncated_normal([num_inp],stddev=.1))\n",
    "    W_i = tf.Variable(tf.truncated_normal([num_inp],stddev=.1))\n",
    "    W_o = tf.Variable(tf.truncated_normal([num_inp],stddev=.1))\n",
    "    W_c = tf.Variable(tf.truncated_normal([num_inp],stddev=.1))\n",
    "    W_a = tf.Variable(tf.truncated_normal([num_inp],stddev=.1))\n",
    "\n",
    "    U_f = tf.Variable(tf.truncated_normal([num_inp],stddev=.1))\n",
    "    U_i = tf.Variable(tf.truncated_normal([num_inp],stddev=.1))\n",
    "    U_o = tf.Variable(tf.truncated_normal([num_inp],stddev=.1))\n",
    "    U_c = tf.Variable(tf.truncated_normal([num_inp],stddev=.1))\n",
    "    U_a = tf.Variable(tf.truncated_normal([num_inp],stddev=.1))\n",
    "\n",
    "    B_f = tf.Variable(tf.truncated_normal([num_inp],stddev=.1))\n",
    "    B_i = tf.Variable(tf.truncated_normal([num_inp],stddev=.1))\n",
    "    B_o = tf.Variable(tf.truncated_normal([num_inp],stddev=.1))\n",
    "    B_a = tf.Variable(tf.truncated_normal([num_inp],stddev=.1))\n",
    "\n",
    "    F_t = tf.sigmoid( tf.multiply(x_old,W_f) + tf.multiply(h_old,U_f) + B_f)\n",
    "    I_t = tf.sigmoid( tf.multiply(x_old,W_i) + tf.multiply(h_old,U_i) + B_i)\n",
    "    O_t = tf.sigmoid( tf.multiply(x_old,W_o) + tf.multiply(h_old,U_o) + B_o)\n",
    "    A_t = tf.tanh(    tf.multiply(x_old,W_a) + tf.multiply(h_old,U_a) + B_a)\n",
    "\n",
    "    c_t = tf.multiply(I_t,c_old) + tf.multiply(F_t,A_t)\n",
    "    h_t = tf.multiply(O_t,tf.tanh(c_t))\n",
    "\n",
    "    return c_t,h_t"
   ]
  },
  {
   "cell_type": "code",
   "execution_count": 3,
   "metadata": {
    "collapsed": true
   },
   "outputs": [],
   "source": [
    "def lstm_layer(X_txt,num_inp,max_len):\n",
    "    curC = 0.0\n",
    "    curH = 0.0\n",
    "        \n",
    "    for i in range(max_len):\n",
    "        curC, curH = small_lstm(num_inp,X_txt[i],curH,curC)\n",
    "    return curH"
   ]
  },
  {
   "cell_type": "markdown",
   "metadata": {
    "collapsed": true
   },
   "source": [
    "<h3>Pandas manipulation of Dataset</h3>"
   ]
  },
  {
   "cell_type": "code",
   "execution_count": 4,
   "metadata": {
    "collapsed": true
   },
   "outputs": [],
   "source": [
<<<<<<< HEAD
    "file_path = \"../sentiment140/training.1600000.processed.noemoticon.csv\""
=======
    "file_path = \"../../../../Downloads/sentiment140/training.1600000.processed.noemoticon.csv\""
>>>>>>> e54aebb9a4623e172311b6b2b53be93eb550e190
   ]
  },
  {
   "cell_type": "code",
   "execution_count": 5,
   "metadata": {
    "collapsed": true
   },
   "outputs": [],
   "source": [
    "col_names = ['target','id','date','flag','user','text']"
   ]
  },
  {
   "cell_type": "code",
   "execution_count": 6,
   "metadata": {
    "collapsed": true
   },
   "outputs": [],
   "source": [
    "df = pd.read_csv(file_path,encoding='ISO-8859-1',names=col_names)"
   ]
  },
  {
   "cell_type": "code",
   "execution_count": 7,
   "metadata": {},
   "outputs": [
    {
     "data": {
      "text/html": [
       "<div>\n",
       "<style scoped>\n",
       "    .dataframe tbody tr th:only-of-type {\n",
       "        vertical-align: middle;\n",
       "    }\n",
       "\n",
       "    .dataframe tbody tr th {\n",
       "        vertical-align: top;\n",
       "    }\n",
       "\n",
       "    .dataframe thead th {\n",
       "        text-align: right;\n",
       "    }\n",
       "</style>\n",
       "<table border=\"1\" class=\"dataframe\">\n",
       "  <thead>\n",
       "    <tr style=\"text-align: right;\">\n",
       "      <th></th>\n",
       "      <th>target</th>\n",
       "      <th>id</th>\n",
       "      <th>date</th>\n",
       "      <th>flag</th>\n",
       "      <th>user</th>\n",
       "      <th>text</th>\n",
       "    </tr>\n",
       "  </thead>\n",
       "  <tbody>\n",
       "    <tr>\n",
       "      <th>0</th>\n",
       "      <td>0</td>\n",
       "      <td>1467810369</td>\n",
       "      <td>Mon Apr 06 22:19:45 PDT 2009</td>\n",
       "      <td>NO_QUERY</td>\n",
       "      <td>_TheSpecialOne_</td>\n",
       "      <td>@switchfoot http://twitpic.com/2y1zl - Awww, t...</td>\n",
       "    </tr>\n",
       "    <tr>\n",
       "      <th>1</th>\n",
       "      <td>0</td>\n",
       "      <td>1467810672</td>\n",
       "      <td>Mon Apr 06 22:19:49 PDT 2009</td>\n",
       "      <td>NO_QUERY</td>\n",
       "      <td>scotthamilton</td>\n",
       "      <td>is upset that he can't update his Facebook by ...</td>\n",
       "    </tr>\n",
       "    <tr>\n",
       "      <th>2</th>\n",
       "      <td>0</td>\n",
       "      <td>1467810917</td>\n",
       "      <td>Mon Apr 06 22:19:53 PDT 2009</td>\n",
       "      <td>NO_QUERY</td>\n",
       "      <td>mattycus</td>\n",
       "      <td>@Kenichan I dived many times for the ball. Man...</td>\n",
       "    </tr>\n",
       "    <tr>\n",
       "      <th>3</th>\n",
       "      <td>0</td>\n",
       "      <td>1467811184</td>\n",
       "      <td>Mon Apr 06 22:19:57 PDT 2009</td>\n",
       "      <td>NO_QUERY</td>\n",
       "      <td>ElleCTF</td>\n",
       "      <td>my whole body feels itchy and like its on fire</td>\n",
       "    </tr>\n",
       "    <tr>\n",
       "      <th>4</th>\n",
       "      <td>0</td>\n",
       "      <td>1467811193</td>\n",
       "      <td>Mon Apr 06 22:19:57 PDT 2009</td>\n",
       "      <td>NO_QUERY</td>\n",
       "      <td>Karoli</td>\n",
       "      <td>@nationwideclass no, it's not behaving at all....</td>\n",
       "    </tr>\n",
       "  </tbody>\n",
       "</table>\n",
       "</div>"
      ],
      "text/plain": [
       "   target          id                          date      flag  \\\n",
       "0       0  1467810369  Mon Apr 06 22:19:45 PDT 2009  NO_QUERY   \n",
       "1       0  1467810672  Mon Apr 06 22:19:49 PDT 2009  NO_QUERY   \n",
       "2       0  1467810917  Mon Apr 06 22:19:53 PDT 2009  NO_QUERY   \n",
       "3       0  1467811184  Mon Apr 06 22:19:57 PDT 2009  NO_QUERY   \n",
       "4       0  1467811193  Mon Apr 06 22:19:57 PDT 2009  NO_QUERY   \n",
       "\n",
       "              user                                               text  \n",
       "0  _TheSpecialOne_  @switchfoot http://twitpic.com/2y1zl - Awww, t...  \n",
       "1    scotthamilton  is upset that he can't update his Facebook by ...  \n",
       "2         mattycus  @Kenichan I dived many times for the ball. Man...  \n",
       "3          ElleCTF    my whole body feels itchy and like its on fire   \n",
       "4           Karoli  @nationwideclass no, it's not behaving at all....  "
      ]
     },
     "execution_count": 7,
     "metadata": {},
     "output_type": "execute_result"
    }
   ],
   "source": [
    "df.head()"
   ]
  },
  {
   "cell_type": "code",
   "execution_count": 8,
   "metadata": {
    "collapsed": true
   },
   "outputs": [],
   "source": [
    "txt = df['text']"
   ]
  },
  {
   "cell_type": "code",
   "execution_count": 9,
   "metadata": {
    "collapsed": true
   },
   "outputs": [],
   "source": [
    "target = df['target']"
   ]
  },
  {
   "cell_type": "code",
   "execution_count": 10,
   "metadata": {},
   "outputs": [
    {
     "name": "stdout",
     "output_type": "stream",
     "text": [
      "0    @switchfoot http://twitpic.com/2y1zl - Awww, t...\n",
      "1    is upset that he can't update his Facebook by ...\n",
      "2    @Kenichan I dived many times for the ball. Man...\n",
      "3      my whole body feels itchy and like its on fire \n",
      "4    @nationwideclass no, it's not behaving at all....\n",
      "Name: text, dtype: object\n"
     ]
    }
   ],
   "source": [
    "print(txt.head())"
   ]
  },
  {
   "cell_type": "markdown",
   "metadata": {},
   "source": [
    "<h3>Glove word embedding</h3>"
   ]
  },
  {
   "cell_type": "code",
   "execution_count": 11,
   "metadata": {
    "collapsed": true
   },
   "outputs": [],
   "source": [
    "file = \"../../../../Downloads/glove.840B.300d.txt\""
   ]
  },
  {
   "cell_type": "code",
   "execution_count": 12,
   "metadata": {
    "collapsed": true
   },
   "outputs": [],
   "source": [
    "Glove_file = open(file)"
   ]
  },
  {
   "cell_type": "code",
   "execution_count": 13,
   "metadata": {
    "collapsed": true
   },
   "outputs": [],
   "source": [
    "w2v_dict = {}"
   ]
  },
  {
   "cell_type": "code",
   "execution_count": 14,
   "metadata": {
    "collapsed": true
   },
   "outputs": [],
   "source": [
    "count = 0\n",
    "#for line in Glove_file:\n",
    "while count<1000:\n",
    "    count+=1\n",
    "    line = Glove_file.readline()\n",
    "    line = line.strip('\\n').split(\" \")\n",
    "    word = line.pop(0)\n",
    "    line = np.array(line)\n",
    "    line = line.astype(np.float)\n",
    "    \n",
    "    w2v_dict[word] = line"
   ]
  },
  {
   "cell_type": "code",
   "execution_count": 15,
   "metadata": {
    "collapsed": true
   },
   "outputs": [],
   "source": [
    "def sample2Vec(w2v_dict,sample):\n",
    "    sample_emb = []\n",
    "    hold = []\n",
    "    for i in sample:\n",
    "        if i in w2v_dict:\n",
    "            hold = w2v_dict[i]\n",
    "        else:\n",
    "            hold = np.zeros(300)\n",
    "        sample_emb.append(hold)\n",
    "    return sample_emb"
   ]
  },
  {
   "cell_type": "markdown",
   "metadata": {},
   "source": [
    "<h3>Text Pre-processing</h3>"
   ]
  },
  {
   "cell_type": "code",
   "execution_count": 16,
   "metadata": {
    "collapsed": true
   },
   "outputs": [],
   "source": [
    "vec_df = pd.DataFrame(columns=list(range(300)))\n",
    "tar_df = pd.DataFrame(columns=['target'])"
   ]
  },
  {
   "cell_type": "code",
   "execution_count": 17,
   "metadata": {},
   "outputs": [
    {
     "name": "stdout",
     "output_type": "stream",
     "text": [
      "Empty DataFrame\n",
      "Columns: [0, 1, 2, 3, 4, 5, 6, 7, 8, 9, 10, 11, 12, 13, 14, 15, 16, 17, 18, 19, 20, 21, 22, 23, 24, 25, 26, 27, 28, 29, 30, 31, 32, 33, 34, 35, 36, 37, 38, 39, 40, 41, 42, 43, 44, 45, 46, 47, 48, 49, 50, 51, 52, 53, 54, 55, 56, 57, 58, 59, 60, 61, 62, 63, 64, 65, 66, 67, 68, 69, 70, 71, 72, 73, 74, 75, 76, 77, 78, 79, 80, 81, 82, 83, 84, 85, 86, 87, 88, 89, 90, 91, 92, 93, 94, 95, 96, 97, 98, 99, ...]\n",
      "Index: []\n",
      "\n",
      "[0 rows x 300 columns]\n"
     ]
    }
   ],
   "source": [
    "print(vec_df)"
   ]
  },
  {
   "cell_type": "code",
   "execution_count": 18,
   "metadata": {
    "collapsed": true
   },
   "outputs": [],
   "source": [
    "def pre_proc_sen(sentence):\n",
    "    test = sentence.lower()\n",
    "    test = test.replace(\"'\",\"\").replace('\"',\"\")\n",
    "    test = re.sub(r'http\\S+', '', test)\n",
    "    test = re.sub(r';\\S+','',test)\n",
    "    test = re.sub(r':\\S+','',test)\n",
    "    test = re.sub('[^a-zA-Z]',' ',test)\n",
    "    test = test.split()\n",
    "    return test"
   ]
  },
  {
   "cell_type": "code",
   "execution_count": 19,
   "metadata": {},
   "outputs": [
    {
     "name": "stdout",
     "output_type": "stream",
     "text": [
      "(997, 30, 300)\n",
      "(997, 1)\n"
     ]
    }
   ],
   "source": [
    "num_sam = 1000\n",
    "max_words = 30\n",
    "vec_np = 0\n",
    "txt_fin = []\n",
    "for i in range(len(txt)):\n",
    "    if(i>=num_sam):\n",
    "        break\n",
    "\n",
    "    sample_txt = txt[i+799500]\n",
    "    sample_tar = target[i+799500]\n",
    "    \n",
    "    sample_txt = pre_proc_sen(sample_txt)\n",
    "    \n",
    "    if(len(sample_txt) < max_words):\n",
    "        txt_fin.append(sample_txt)\n",
    "        sample_txt = sample2Vec(w2v_dict,sample_txt)\n",
    "        \n",
    "        for j in range(max_words):\n",
    "            if(j >= len(sample_txt)):\n",
    "                sample_txt.append(np.zeros(300))\n",
    "                \n",
    "        sample_txt = np.array(sample_txt)\n",
    "        sample_txt = np.reshape(sample_txt,(1,30,300))\n",
    "        \n",
    "        sample_tar = np.reshape(sample_tar,(1,1))\n",
    "        \n",
    "        if (i == 0):\n",
    "            vec_np = sample_txt\n",
    "            tar_np = sample_tar\n",
    "        else:\n",
    "            vec_np = np.concatenate((vec_np, sample_txt),axis=0)\n",
    "            tar_np = np.concatenate((tar_np, sample_tar),axis=0)\n",
    "\n",
    "print(vec_np.shape)\n",
    "print(tar_np.shape)"
   ]
  },
  {
   "cell_type": "markdown",
   "metadata": {},
   "source": [
    "<h2>Model</h2>"
   ]
  },
  {
   "cell_type": "code",
   "execution_count": 20,
   "metadata": {
    "collapsed": true
   },
   "outputs": [],
   "source": [
    "num_inp = 300\n",
    "num_classes = 3\n",
    "epochs = 1"
   ]
  },
  {
   "cell_type": "code",
   "execution_count": 21,
   "metadata": {
    "collapsed": true
   },
   "outputs": [],
   "source": [
    "inp = tf.placeholder(tf.float32,shape=[max_words,300])"
   ]
  },
  {
   "cell_type": "code",
   "execution_count": 22,
   "metadata": {
    "collapsed": true
   },
   "outputs": [],
   "source": [
    "y_true = tf.placeholder(tf.float32,[1,num_classes])"
   ]
  },
  {
   "cell_type": "markdown",
   "metadata": {},
   "source": [
    "<h3>Graph</h3>"
   ]
  },
  {
   "cell_type": "code",
   "execution_count": 23,
   "metadata": {
    "collapsed": true
   },
   "outputs": [],
   "source": [
    "W_out = tf.Variable(tf.truncated_normal(shape=[300,num_classes],stddev=.1))\n",
    "b_out = tf.Variable(tf.truncated_normal(shape=[num_classes],stddev=.1))"
   ]
  },
  {
   "cell_type": "code",
   "execution_count": 24,
   "metadata": {
    "collapsed": true
   },
   "outputs": [],
   "source": [
    "y = lstm_layer(inp,num_inp,max_words)"
   ]
  },
  {
   "cell_type": "code",
   "execution_count": 51,
   "metadata": {},
   "outputs": [
    {
     "name": "stdout",
     "output_type": "stream",
     "text": [
      "(1, 300)\n"
     ]
    }
   ],
   "source": [
    "y = tf.reshape(y,(1,300))\n",
    "print(y.shape)"
   ]
  },
  {
   "cell_type": "code",
   "execution_count": 52,
   "metadata": {
    "collapsed": true
   },
   "outputs": [],
   "source": [
    "y_out = tf.matmul(y,W_out)+b_out"
   ]
  },
  {
   "cell_type": "markdown",
   "metadata": {},
   "source": [
    "<h3>Loss & Optimizer </h3>"
   ]
  },
  {
   "cell_type": "code",
   "execution_count": 40,
   "metadata": {
    "collapsed": true
   },
   "outputs": [],
   "source": [
    "cross_entropy = tf.reduce_mean(tf.nn.softmax_cross_entropy_with_logits_v2(labels=y_true,logits=y_out))"
   ]
  },
  {
   "cell_type": "code",
   "execution_count": 41,
   "metadata": {
    "collapsed": true
   },
   "outputs": [],
   "source": [
    "optimizer = tf.train.AdamOptimizer().minimize(cross_entropy)"
   ]
  },
  {
   "cell_type": "markdown",
   "metadata": {},
   "source": [
    "<h3>Accuracy Function</h3>"
   ]
  },
  {
   "cell_type": "code",
   "execution_count": 42,
   "metadata": {
    "collapsed": true
   },
   "outputs": [],
   "source": [
    "correct_prediction = tf.equal(tf.argmax(y2,1),tf.argmax(y_true,1))"
   ]
  },
  {
   "cell_type": "code",
   "execution_count": 43,
   "metadata": {
    "collapsed": true
   },
   "outputs": [],
   "source": [
    "acc = tf.reduce_mean(tf.cast(correct_prediction,tf.float32))"
   ]
  },
  {
   "cell_type": "code",
   "execution_count": 46,
   "metadata": {
    "collapsed": true
   },
   "outputs": [],
   "source": [
    "loss_arr = []\n",
    "tot_loss = 0"
   ]
  },
  {
   "cell_type": "markdown",
   "metadata": {},
   "source": [
    "<h3>Session</h3>"
   ]
  },
  {
   "cell_type": "code",
   "execution_count": 47,
   "metadata": {},
   "outputs": [
    {
     "name": "stdout",
     "output_type": "stream",
     "text": [
      "length of training data: 697\n",
      "0\n",
      "50\n",
      "100\n",
      "150\n",
      "200\n",
      "250\n",
      "300\n",
      "350\n",
      "400\n",
      "450\n",
      "500\n",
      "550\n",
      "600\n",
      "650\n"
     ]
    },
    {
     "data": {
      "text/plain": [
       "'        for i in range(len(X_test)):\\n            batch_x = X_test[i]\\n\\n            ind = np.divide(Y_train[i],2)\\n            batch_y = tf.one_hot(indices = ind, depth = 3)\\n            batch_y = sess.run(batch_y)\\n            sess.run(acc, feed_dict = {inp:batch_x,y_true:batch_y})\\n'"
      ]
     },
     "execution_count": 47,
     "metadata": {},
     "output_type": "execute_result"
    }
   ],
   "source": [
    "X_train, X_test, Y_train, Y_test = train_test_split(vec_np,tar_np,test_size=0.30,random_state=42)\n",
    "\n",
    "init = tf.global_variables_initializer()\n",
    "with tf.Session() as sess:\n",
    "    sess.run(init)\n",
    "    \n",
    "    for ep in range(epochs):\n",
    "        print(\"epoch: \"+str(ep))\n",
    "        print(\"length of training data: \"+str(len(X_train)))\n",
    "        for i in range(len(X_train)):\n",
    "            batch_x = X_train[i]\n",
    "\n",
    "            ind = np.divide(Y_train[i],2)\n",
    "\n",
    "            batch_y = tf.one_hot(indices = ind, depth = 3)\n",
    "            batch_y = sess.run(batch_y)\n",
    "            \n",
    "            #if(Y_train[i] != 0):\n",
    "            #    print(Y_train[i])\n",
    "            #    print(ind)\n",
    "            #    print(batch_y)\n",
    "            \n",
    "            sess.run(optimizer, feed_dict={inp:batch_x,y_true:batch_y})\n",
    "\n",
    "            hold = sess.run(cross_entropy, feed_dict={inp:batch_x,y_true:batch_y})\n",
    "            tot_loss += hold\n",
    "        loss_arr.append(tot_loss)"
   ]
  },
  {
   "cell_type": "code",
   "execution_count": 48,
   "metadata": {},
   "outputs": [
    {
     "data": {
      "text/plain": [
       "[<matplotlib.lines.Line2D at 0x7f3c9c455be0>]"
      ]
     },
     "execution_count": 48,
     "metadata": {},
     "output_type": "execute_result"
    },
    {
     "data": {
      "image/png": "iVBORw0KGgoAAAANSUhEUgAAAXcAAAD8CAYAAACMwORRAAAABHNCSVQICAgIfAhkiAAAAAlwSFlz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\nhCjrAAAAAElFTkSuQmCC\n",
      "text/plain": [
       "<matplotlib.figure.Figure at 0x7f3ca7901ba8>"
      ]
     },
     "metadata": {},
     "output_type": "display_data"
    }
   ],
   "source": [
    "plt.plot([i for i in range(len(loss_arr))],loss_arr)"
   ]
  },
  {
   "cell_type": "code",
   "execution_count": 58,
   "metadata": {},
   "outputs": [
    {
     "name": "stdout",
     "output_type": "stream",
     "text": [
      "['kristacolvin', 'i', 'have', 'that', 'cd', 'in', 'my', 'car', 'right', 'now', 'now', 'song', 'in', 'my', 'head']\n",
      "[0. 0. 1.]\n",
      "[0.3170831  0.35893303 0.32398385]\n",
      "1\n"
     ]
    }
   ],
   "source": [
    "init = tf.global_variables_initializer()\n",
    "with tf.Session() as sess:\n",
    "    sess.run(init)\n",
    "    \n",
    "\n",
    "    batch_x = X_train[1]\n",
    "        \n",
    "    ind = np.divide(Y_train[1],2)\n",
    "    batch_y = tf.one_hot(indices = ind, depth = 3)\n",
    "    batch_y = sess.run(batch_y)\n",
    "    \n",
    "    out = tf.nn.softmax(y_out[0])\n",
    "    pred = tf.argmax(out)\n",
    "\n",
    "    output = sess.run(out, feed_dict={inp:batch_x,y_true:batch_y})\n",
    "    prediction = sess.run(pred, feed_dict={inp:batch_x,y_true:batch_y})\n",
    "    \n",
    "    print(txt_fin[0])\n",
    "    print(batch_y[0])\n",
    "    print(output)\n",
    "    print(prediction)"
   ]
  },
  {
   "cell_type": "code",
   "execution_count": null,
   "metadata": {
    "collapsed": true
   },
   "outputs": [],
   "source": []
  }
 ],
 "metadata": {
  "kernelspec": {
   "display_name": "Python 3",
   "language": "python",
   "name": "python3"
  },
  "language_info": {
   "codemirror_mode": {
    "name": "ipython",
    "version": 3
   },
   "file_extension": ".py",
   "mimetype": "text/x-python",
   "name": "python",
   "nbconvert_exporter": "python",
   "pygments_lexer": "ipython3",
   "version": "3.6.3"
  }
 },
 "nbformat": 4,
 "nbformat_minor": 2
}
